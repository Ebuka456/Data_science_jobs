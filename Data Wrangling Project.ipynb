{
 "cells": [
  {
   "cell_type": "markdown",
   "id": "b7f1e641",
   "metadata": {},
   "source": [
    "# Project: Data Science Jobs Analysis \n",
    "\n",
    "## Project Task: Data Wrangling\n",
    "\n",
    "## Table of Contents\n",
    "<ul>\n",
    "<li><a href=\"#intro\">Introduction</a></li>\n",
    "<li><a href=\"#wrangling\">Data Wrangling</a></li>\n",
    "<li><a href=\"#summary\">Conclusions</a></li>\n",
    "</ul>"
   ]
  },
  {
   "cell_type": "markdown",
   "id": "6dcfa425",
   "metadata": {},
   "source": [
    "<a id='intro'></a>\n",
    "## Introduction\n",
    "\n",
    "### Project Context\n",
    "Project Goal: The aim of the project is to clean the dataset using python\n",
    "### Dataset Description \n",
    "In this project, I will work on the Data Science Job dataset gotten from the [Kaggle](https://www.kaggle.com/datasets/ruchi798/data-science-job-salaries). \n",
    "The dataset contains 607 records (rows) and 12 fields (columns) and the column description are as follows \n",
    "\n",
    "- **work_year:**\tThe year the salary was paid.\n",
    "- **experience_level:**\tThe experience level in the job during the year with the following possible values: EN Entry-level / Junior MI Mid-level / Intermediate SE Senior-level / Expert EX Executive-level / Director\n",
    "- **employment_type:**\tThe type of employement for the role: PT Part-time FT Full-time CT Contract FL Freelance\n",
    "- **job_title:**  The role worked in during the year.\n",
    "- **salary:**\tThe total gross salary amount paid.\n",
    "- **salary_currency:**\tThe currency of the salary paid as an ISO 4217 currency code.\n",
    "- **salaryinusd:**\tThe salary in USD (FX rate divided by avg. USD rate for the respective year via fxdata.foorilla.com).\n",
    "- **employee_residence:**\tEmployee's primary country of residence in during the work year as an ISO 3166 country code.\n",
    "- **remote_ratio:**\tThe overall amount of work done remotely, possible values are as follows: 0 No remote work (less than 20%) 50 Partially remote 100 Fully remote (more than 80%)\n",
    "- **company_location:**\tThe country of the employer's main office or contracting branch as an ISO 3166 country code.\n",
    "- **company_size:**\tThe average number of people that worked for the company during the year: S less than 50 employees (small) M 50 to 250 employees (medium) L more than 250 employees (large)"
   ]
  },
  {
   "cell_type": "markdown",
   "id": "0cf9fce3",
   "metadata": {},
   "source": [
    "\n",
    "\n",
    "For the Data CLeaning, Python with the aid of some of its packages, which would be imported"
   ]
  },
  {
   "cell_type": "code",
   "execution_count": 65,
   "id": "85c69ab4",
   "metadata": {},
   "outputs": [],
   "source": [
    "# importing python packages\n",
    "import pandas as pd\n",
    "import os"
   ]
  },
  {
   "cell_type": "markdown",
   "id": "cdadb1a9",
   "metadata": {},
   "source": [
    "<a id='wrangling'></a>\n",
    "## Data Wrangling\n",
    "\n",
    "The Data Wrangling Process would be done in three iterative steps\n",
    "1. **Data Gathering**\n",
    "2. **Assessing Data**\n",
    "3. **Data Cleaning**"
   ]
  },
  {
   "cell_type": "markdown",
   "id": "80ba5639",
   "metadata": {},
   "source": [
    "## Data Gathering\n",
    "In the cell below, I will be gathering the Data Science jobs dataset from the [Kaggle](https://www.kaggle.com/datasets/ruchi798/data-science-job-salaries) website amd importing it to my Jupyter Notebook and reading it into a dataframe for cleaning"
   ]
  },
  {
   "cell_type": "code",
   "execution_count": 2,
   "id": "03f58aef",
   "metadata": {},
   "outputs": [
    {
     "data": {
      "text/html": [
       "<div>\n",
       "<style scoped>\n",
       "    .dataframe tbody tr th:only-of-type {\n",
       "        vertical-align: middle;\n",
       "    }\n",
       "\n",
       "    .dataframe tbody tr th {\n",
       "        vertical-align: top;\n",
       "    }\n",
       "\n",
       "    .dataframe thead th {\n",
       "        text-align: right;\n",
       "    }\n",
       "</style>\n",
       "<table border=\"1\" class=\"dataframe\">\n",
       "  <thead>\n",
       "    <tr style=\"text-align: right;\">\n",
       "      <th></th>\n",
       "      <th>Unnamed: 0</th>\n",
       "      <th>work_year</th>\n",
       "      <th>experience_level</th>\n",
       "      <th>employment_type</th>\n",
       "      <th>job_title</th>\n",
       "      <th>salary</th>\n",
       "      <th>salary_currency</th>\n",
       "      <th>salary_in_usd</th>\n",
       "      <th>employee_residence</th>\n",
       "      <th>remote_ratio</th>\n",
       "      <th>company_location</th>\n",
       "      <th>company_size</th>\n",
       "    </tr>\n",
       "  </thead>\n",
       "  <tbody>\n",
       "    <tr>\n",
       "      <th>0</th>\n",
       "      <td>0</td>\n",
       "      <td>2020</td>\n",
       "      <td>MI</td>\n",
       "      <td>FT</td>\n",
       "      <td>Data Scientist</td>\n",
       "      <td>70000</td>\n",
       "      <td>EUR</td>\n",
       "      <td>79833</td>\n",
       "      <td>DE</td>\n",
       "      <td>0</td>\n",
       "      <td>DE</td>\n",
       "      <td>L</td>\n",
       "    </tr>\n",
       "    <tr>\n",
       "      <th>1</th>\n",
       "      <td>1</td>\n",
       "      <td>2020</td>\n",
       "      <td>SE</td>\n",
       "      <td>FT</td>\n",
       "      <td>Machine Learning Scientist</td>\n",
       "      <td>260000</td>\n",
       "      <td>USD</td>\n",
       "      <td>260000</td>\n",
       "      <td>JP</td>\n",
       "      <td>0</td>\n",
       "      <td>JP</td>\n",
       "      <td>S</td>\n",
       "    </tr>\n",
       "    <tr>\n",
       "      <th>2</th>\n",
       "      <td>2</td>\n",
       "      <td>2020</td>\n",
       "      <td>SE</td>\n",
       "      <td>FT</td>\n",
       "      <td>Big Data Engineer</td>\n",
       "      <td>85000</td>\n",
       "      <td>GBP</td>\n",
       "      <td>109024</td>\n",
       "      <td>GB</td>\n",
       "      <td>50</td>\n",
       "      <td>GB</td>\n",
       "      <td>M</td>\n",
       "    </tr>\n",
       "    <tr>\n",
       "      <th>3</th>\n",
       "      <td>3</td>\n",
       "      <td>2020</td>\n",
       "      <td>MI</td>\n",
       "      <td>FT</td>\n",
       "      <td>Product Data Analyst</td>\n",
       "      <td>20000</td>\n",
       "      <td>USD</td>\n",
       "      <td>20000</td>\n",
       "      <td>HN</td>\n",
       "      <td>0</td>\n",
       "      <td>HN</td>\n",
       "      <td>S</td>\n",
       "    </tr>\n",
       "    <tr>\n",
       "      <th>4</th>\n",
       "      <td>4</td>\n",
       "      <td>2020</td>\n",
       "      <td>SE</td>\n",
       "      <td>FT</td>\n",
       "      <td>Machine Learning Engineer</td>\n",
       "      <td>150000</td>\n",
       "      <td>USD</td>\n",
       "      <td>150000</td>\n",
       "      <td>US</td>\n",
       "      <td>50</td>\n",
       "      <td>US</td>\n",
       "      <td>L</td>\n",
       "    </tr>\n",
       "    <tr>\n",
       "      <th>...</th>\n",
       "      <td>...</td>\n",
       "      <td>...</td>\n",
       "      <td>...</td>\n",
       "      <td>...</td>\n",
       "      <td>...</td>\n",
       "      <td>...</td>\n",
       "      <td>...</td>\n",
       "      <td>...</td>\n",
       "      <td>...</td>\n",
       "      <td>...</td>\n",
       "      <td>...</td>\n",
       "      <td>...</td>\n",
       "    </tr>\n",
       "    <tr>\n",
       "      <th>602</th>\n",
       "      <td>602</td>\n",
       "      <td>2022</td>\n",
       "      <td>SE</td>\n",
       "      <td>FT</td>\n",
       "      <td>Data Engineer</td>\n",
       "      <td>154000</td>\n",
       "      <td>USD</td>\n",
       "      <td>154000</td>\n",
       "      <td>US</td>\n",
       "      <td>100</td>\n",
       "      <td>US</td>\n",
       "      <td>M</td>\n",
       "    </tr>\n",
       "    <tr>\n",
       "      <th>603</th>\n",
       "      <td>603</td>\n",
       "      <td>2022</td>\n",
       "      <td>SE</td>\n",
       "      <td>FT</td>\n",
       "      <td>Data Engineer</td>\n",
       "      <td>126000</td>\n",
       "      <td>USD</td>\n",
       "      <td>126000</td>\n",
       "      <td>US</td>\n",
       "      <td>100</td>\n",
       "      <td>US</td>\n",
       "      <td>M</td>\n",
       "    </tr>\n",
       "    <tr>\n",
       "      <th>604</th>\n",
       "      <td>604</td>\n",
       "      <td>2022</td>\n",
       "      <td>SE</td>\n",
       "      <td>FT</td>\n",
       "      <td>Data Analyst</td>\n",
       "      <td>129000</td>\n",
       "      <td>USD</td>\n",
       "      <td>129000</td>\n",
       "      <td>US</td>\n",
       "      <td>0</td>\n",
       "      <td>US</td>\n",
       "      <td>M</td>\n",
       "    </tr>\n",
       "    <tr>\n",
       "      <th>605</th>\n",
       "      <td>605</td>\n",
       "      <td>2022</td>\n",
       "      <td>SE</td>\n",
       "      <td>FT</td>\n",
       "      <td>Data Analyst</td>\n",
       "      <td>150000</td>\n",
       "      <td>USD</td>\n",
       "      <td>150000</td>\n",
       "      <td>US</td>\n",
       "      <td>100</td>\n",
       "      <td>US</td>\n",
       "      <td>M</td>\n",
       "    </tr>\n",
       "    <tr>\n",
       "      <th>606</th>\n",
       "      <td>606</td>\n",
       "      <td>2022</td>\n",
       "      <td>MI</td>\n",
       "      <td>FT</td>\n",
       "      <td>AI Scientist</td>\n",
       "      <td>200000</td>\n",
       "      <td>USD</td>\n",
       "      <td>200000</td>\n",
       "      <td>IN</td>\n",
       "      <td>100</td>\n",
       "      <td>US</td>\n",
       "      <td>L</td>\n",
       "    </tr>\n",
       "  </tbody>\n",
       "</table>\n",
       "<p>607 rows × 12 columns</p>\n",
       "</div>"
      ],
      "text/plain": [
       "     Unnamed: 0  work_year experience_level employment_type  \\\n",
       "0             0       2020               MI              FT   \n",
       "1             1       2020               SE              FT   \n",
       "2             2       2020               SE              FT   \n",
       "3             3       2020               MI              FT   \n",
       "4             4       2020               SE              FT   \n",
       "..          ...        ...              ...             ...   \n",
       "602         602       2022               SE              FT   \n",
       "603         603       2022               SE              FT   \n",
       "604         604       2022               SE              FT   \n",
       "605         605       2022               SE              FT   \n",
       "606         606       2022               MI              FT   \n",
       "\n",
       "                      job_title  salary salary_currency  salary_in_usd  \\\n",
       "0                Data Scientist   70000             EUR          79833   \n",
       "1    Machine Learning Scientist  260000             USD         260000   \n",
       "2             Big Data Engineer   85000             GBP         109024   \n",
       "3          Product Data Analyst   20000             USD          20000   \n",
       "4     Machine Learning Engineer  150000             USD         150000   \n",
       "..                          ...     ...             ...            ...   \n",
       "602               Data Engineer  154000             USD         154000   \n",
       "603               Data Engineer  126000             USD         126000   \n",
       "604                Data Analyst  129000             USD         129000   \n",
       "605                Data Analyst  150000             USD         150000   \n",
       "606                AI Scientist  200000             USD         200000   \n",
       "\n",
       "    employee_residence  remote_ratio company_location company_size  \n",
       "0                   DE             0               DE            L  \n",
       "1                   JP             0               JP            S  \n",
       "2                   GB            50               GB            M  \n",
       "3                   HN             0               HN            S  \n",
       "4                   US            50               US            L  \n",
       "..                 ...           ...              ...          ...  \n",
       "602                 US           100               US            M  \n",
       "603                 US           100               US            M  \n",
       "604                 US             0               US            M  \n",
       "605                 US           100               US            M  \n",
       "606                 IN           100               US            L  \n",
       "\n",
       "[607 rows x 12 columns]"
      ]
     },
     "execution_count": 2,
     "metadata": {},
     "output_type": "execute_result"
    }
   ],
   "source": [
    "# reading the file to a dataframe\n",
    "data_df = pd.read_csv('ds_salaries.csv')\n",
    "data_df"
   ]
  },
  {
   "cell_type": "code",
   "execution_count": 3,
   "id": "a698a259",
   "metadata": {},
   "outputs": [
    {
     "data": {
      "text/plain": [
       "(607, 12)"
      ]
     },
     "execution_count": 3,
     "metadata": {},
     "output_type": "execute_result"
    }
   ],
   "source": [
    "# to confirm the number of rows and columns of the data \n",
    "data_df.shape"
   ]
  },
  {
   "cell_type": "markdown",
   "id": "c9bc6770",
   "metadata": {},
   "source": [
    "This confirms that the data has 607 rows and 12 columns "
   ]
  },
  {
   "cell_type": "markdown",
   "id": "300f4156",
   "metadata": {},
   "source": [
    "## Assessing Data\n",
    "In this section, I will be assessing the data visually and programmatically for issues with tidiness and quality"
   ]
  },
  {
   "cell_type": "code",
   "execution_count": 4,
   "id": "33e6d9f3",
   "metadata": {},
   "outputs": [
    {
     "data": {
      "text/html": [
       "<div>\n",
       "<style scoped>\n",
       "    .dataframe tbody tr th:only-of-type {\n",
       "        vertical-align: middle;\n",
       "    }\n",
       "\n",
       "    .dataframe tbody tr th {\n",
       "        vertical-align: top;\n",
       "    }\n",
       "\n",
       "    .dataframe thead th {\n",
       "        text-align: right;\n",
       "    }\n",
       "</style>\n",
       "<table border=\"1\" class=\"dataframe\">\n",
       "  <thead>\n",
       "    <tr style=\"text-align: right;\">\n",
       "      <th></th>\n",
       "      <th>Unnamed: 0</th>\n",
       "      <th>work_year</th>\n",
       "      <th>experience_level</th>\n",
       "      <th>employment_type</th>\n",
       "      <th>job_title</th>\n",
       "      <th>salary</th>\n",
       "      <th>salary_currency</th>\n",
       "      <th>salary_in_usd</th>\n",
       "      <th>employee_residence</th>\n",
       "      <th>remote_ratio</th>\n",
       "      <th>company_location</th>\n",
       "      <th>company_size</th>\n",
       "    </tr>\n",
       "  </thead>\n",
       "  <tbody>\n",
       "    <tr>\n",
       "      <th>0</th>\n",
       "      <td>0</td>\n",
       "      <td>2020</td>\n",
       "      <td>MI</td>\n",
       "      <td>FT</td>\n",
       "      <td>Data Scientist</td>\n",
       "      <td>70000</td>\n",
       "      <td>EUR</td>\n",
       "      <td>79833</td>\n",
       "      <td>DE</td>\n",
       "      <td>0</td>\n",
       "      <td>DE</td>\n",
       "      <td>L</td>\n",
       "    </tr>\n",
       "    <tr>\n",
       "      <th>1</th>\n",
       "      <td>1</td>\n",
       "      <td>2020</td>\n",
       "      <td>SE</td>\n",
       "      <td>FT</td>\n",
       "      <td>Machine Learning Scientist</td>\n",
       "      <td>260000</td>\n",
       "      <td>USD</td>\n",
       "      <td>260000</td>\n",
       "      <td>JP</td>\n",
       "      <td>0</td>\n",
       "      <td>JP</td>\n",
       "      <td>S</td>\n",
       "    </tr>\n",
       "    <tr>\n",
       "      <th>2</th>\n",
       "      <td>2</td>\n",
       "      <td>2020</td>\n",
       "      <td>SE</td>\n",
       "      <td>FT</td>\n",
       "      <td>Big Data Engineer</td>\n",
       "      <td>85000</td>\n",
       "      <td>GBP</td>\n",
       "      <td>109024</td>\n",
       "      <td>GB</td>\n",
       "      <td>50</td>\n",
       "      <td>GB</td>\n",
       "      <td>M</td>\n",
       "    </tr>\n",
       "    <tr>\n",
       "      <th>3</th>\n",
       "      <td>3</td>\n",
       "      <td>2020</td>\n",
       "      <td>MI</td>\n",
       "      <td>FT</td>\n",
       "      <td>Product Data Analyst</td>\n",
       "      <td>20000</td>\n",
       "      <td>USD</td>\n",
       "      <td>20000</td>\n",
       "      <td>HN</td>\n",
       "      <td>0</td>\n",
       "      <td>HN</td>\n",
       "      <td>S</td>\n",
       "    </tr>\n",
       "    <tr>\n",
       "      <th>4</th>\n",
       "      <td>4</td>\n",
       "      <td>2020</td>\n",
       "      <td>SE</td>\n",
       "      <td>FT</td>\n",
       "      <td>Machine Learning Engineer</td>\n",
       "      <td>150000</td>\n",
       "      <td>USD</td>\n",
       "      <td>150000</td>\n",
       "      <td>US</td>\n",
       "      <td>50</td>\n",
       "      <td>US</td>\n",
       "      <td>L</td>\n",
       "    </tr>\n",
       "  </tbody>\n",
       "</table>\n",
       "</div>"
      ],
      "text/plain": [
       "   Unnamed: 0  work_year experience_level employment_type  \\\n",
       "0           0       2020               MI              FT   \n",
       "1           1       2020               SE              FT   \n",
       "2           2       2020               SE              FT   \n",
       "3           3       2020               MI              FT   \n",
       "4           4       2020               SE              FT   \n",
       "\n",
       "                    job_title  salary salary_currency  salary_in_usd  \\\n",
       "0              Data Scientist   70000             EUR          79833   \n",
       "1  Machine Learning Scientist  260000             USD         260000   \n",
       "2           Big Data Engineer   85000             GBP         109024   \n",
       "3        Product Data Analyst   20000             USD          20000   \n",
       "4   Machine Learning Engineer  150000             USD         150000   \n",
       "\n",
       "  employee_residence  remote_ratio company_location company_size  \n",
       "0                 DE             0               DE            L  \n",
       "1                 JP             0               JP            S  \n",
       "2                 GB            50               GB            M  \n",
       "3                 HN             0               HN            S  \n",
       "4                 US            50               US            L  "
      ]
     },
     "execution_count": 4,
     "metadata": {},
     "output_type": "execute_result"
    }
   ],
   "source": [
    "# to check the first few rows of the data\n",
    "data_df.head()"
   ]
  },
  {
   "cell_type": "markdown",
   "id": "59f42226",
   "metadata": {},
   "source": [
    "Checking the datatypes of the data"
   ]
  },
  {
   "cell_type": "code",
   "execution_count": 5,
   "id": "c8eacbbc",
   "metadata": {},
   "outputs": [
    {
     "data": {
      "text/plain": [
       "Unnamed: 0             int64\n",
       "work_year              int64\n",
       "experience_level      object\n",
       "employment_type       object\n",
       "job_title             object\n",
       "salary                 int64\n",
       "salary_currency       object\n",
       "salary_in_usd          int64\n",
       "employee_residence    object\n",
       "remote_ratio           int64\n",
       "company_location      object\n",
       "company_size          object\n",
       "dtype: object"
      ]
     },
     "execution_count": 5,
     "metadata": {},
     "output_type": "execute_result"
    }
   ],
   "source": [
    "# to check data types\n",
    "data_df.dtypes"
   ]
  },
  {
   "cell_type": "markdown",
   "id": "f280f6cd",
   "metadata": {},
   "source": [
    "To check for duplicate records"
   ]
  },
  {
   "cell_type": "code",
   "execution_count": 7,
   "id": "6e9b15fb",
   "metadata": {},
   "outputs": [
    {
     "data": {
      "text/plain": [
       "0"
      ]
     },
     "execution_count": 7,
     "metadata": {},
     "output_type": "execute_result"
    }
   ],
   "source": [
    "sum(data_df.duplicated())"
   ]
  },
  {
   "cell_type": "markdown",
   "id": "3804571f",
   "metadata": {},
   "source": [
    "To check for columns with null values"
   ]
  },
  {
   "cell_type": "code",
   "execution_count": 12,
   "id": "59647932",
   "metadata": {},
   "outputs": [
    {
     "data": {
      "text/plain": [
       "Index([], dtype='object')"
      ]
     },
     "execution_count": 12,
     "metadata": {},
     "output_type": "execute_result"
    }
   ],
   "source": [
    "data_df.columns[data_df.isna().any()]"
   ]
  },
  {
   "cell_type": "markdown",
   "id": "8b835574",
   "metadata": {},
   "source": [
    "To check for information about the data"
   ]
  },
  {
   "cell_type": "code",
   "execution_count": 13,
   "id": "a9ded250",
   "metadata": {},
   "outputs": [
    {
     "name": "stdout",
     "output_type": "stream",
     "text": [
      "<class 'pandas.core.frame.DataFrame'>\n",
      "RangeIndex: 607 entries, 0 to 606\n",
      "Data columns (total 12 columns):\n",
      " #   Column              Non-Null Count  Dtype \n",
      "---  ------              --------------  ----- \n",
      " 0   Unnamed: 0          607 non-null    int64 \n",
      " 1   work_year           607 non-null    int64 \n",
      " 2   experience_level    607 non-null    object\n",
      " 3   employment_type     607 non-null    object\n",
      " 4   job_title           607 non-null    object\n",
      " 5   salary              607 non-null    int64 \n",
      " 6   salary_currency     607 non-null    object\n",
      " 7   salary_in_usd       607 non-null    int64 \n",
      " 8   employee_residence  607 non-null    object\n",
      " 9   remote_ratio        607 non-null    int64 \n",
      " 10  company_location    607 non-null    object\n",
      " 11  company_size        607 non-null    object\n",
      "dtypes: int64(5), object(7)\n",
      "memory usage: 57.0+ KB\n"
     ]
    }
   ],
   "source": [
    "data_df.info()"
   ]
  },
  {
   "cell_type": "markdown",
   "id": "b5e45379",
   "metadata": {},
   "source": [
    "To check the descriptive statistics of the data"
   ]
  },
  {
   "cell_type": "code",
   "execution_count": 14,
   "id": "83812766",
   "metadata": {},
   "outputs": [
    {
     "data": {
      "text/html": [
       "<div>\n",
       "<style scoped>\n",
       "    .dataframe tbody tr th:only-of-type {\n",
       "        vertical-align: middle;\n",
       "    }\n",
       "\n",
       "    .dataframe tbody tr th {\n",
       "        vertical-align: top;\n",
       "    }\n",
       "\n",
       "    .dataframe thead th {\n",
       "        text-align: right;\n",
       "    }\n",
       "</style>\n",
       "<table border=\"1\" class=\"dataframe\">\n",
       "  <thead>\n",
       "    <tr style=\"text-align: right;\">\n",
       "      <th></th>\n",
       "      <th>Unnamed: 0</th>\n",
       "      <th>work_year</th>\n",
       "      <th>salary</th>\n",
       "      <th>salary_in_usd</th>\n",
       "      <th>remote_ratio</th>\n",
       "    </tr>\n",
       "  </thead>\n",
       "  <tbody>\n",
       "    <tr>\n",
       "      <th>count</th>\n",
       "      <td>607.000000</td>\n",
       "      <td>607.000000</td>\n",
       "      <td>6.070000e+02</td>\n",
       "      <td>607.000000</td>\n",
       "      <td>607.00000</td>\n",
       "    </tr>\n",
       "    <tr>\n",
       "      <th>mean</th>\n",
       "      <td>303.000000</td>\n",
       "      <td>2021.405272</td>\n",
       "      <td>3.240001e+05</td>\n",
       "      <td>112297.869852</td>\n",
       "      <td>70.92257</td>\n",
       "    </tr>\n",
       "    <tr>\n",
       "      <th>std</th>\n",
       "      <td>175.370085</td>\n",
       "      <td>0.692133</td>\n",
       "      <td>1.544357e+06</td>\n",
       "      <td>70957.259411</td>\n",
       "      <td>40.70913</td>\n",
       "    </tr>\n",
       "    <tr>\n",
       "      <th>min</th>\n",
       "      <td>0.000000</td>\n",
       "      <td>2020.000000</td>\n",
       "      <td>4.000000e+03</td>\n",
       "      <td>2859.000000</td>\n",
       "      <td>0.00000</td>\n",
       "    </tr>\n",
       "    <tr>\n",
       "      <th>25%</th>\n",
       "      <td>151.500000</td>\n",
       "      <td>2021.000000</td>\n",
       "      <td>7.000000e+04</td>\n",
       "      <td>62726.000000</td>\n",
       "      <td>50.00000</td>\n",
       "    </tr>\n",
       "    <tr>\n",
       "      <th>50%</th>\n",
       "      <td>303.000000</td>\n",
       "      <td>2022.000000</td>\n",
       "      <td>1.150000e+05</td>\n",
       "      <td>101570.000000</td>\n",
       "      <td>100.00000</td>\n",
       "    </tr>\n",
       "    <tr>\n",
       "      <th>75%</th>\n",
       "      <td>454.500000</td>\n",
       "      <td>2022.000000</td>\n",
       "      <td>1.650000e+05</td>\n",
       "      <td>150000.000000</td>\n",
       "      <td>100.00000</td>\n",
       "    </tr>\n",
       "    <tr>\n",
       "      <th>max</th>\n",
       "      <td>606.000000</td>\n",
       "      <td>2022.000000</td>\n",
       "      <td>3.040000e+07</td>\n",
       "      <td>600000.000000</td>\n",
       "      <td>100.00000</td>\n",
       "    </tr>\n",
       "  </tbody>\n",
       "</table>\n",
       "</div>"
      ],
      "text/plain": [
       "       Unnamed: 0    work_year        salary  salary_in_usd  remote_ratio\n",
       "count  607.000000   607.000000  6.070000e+02     607.000000     607.00000\n",
       "mean   303.000000  2021.405272  3.240001e+05  112297.869852      70.92257\n",
       "std    175.370085     0.692133  1.544357e+06   70957.259411      40.70913\n",
       "min      0.000000  2020.000000  4.000000e+03    2859.000000       0.00000\n",
       "25%    151.500000  2021.000000  7.000000e+04   62726.000000      50.00000\n",
       "50%    303.000000  2022.000000  1.150000e+05  101570.000000     100.00000\n",
       "75%    454.500000  2022.000000  1.650000e+05  150000.000000     100.00000\n",
       "max    606.000000  2022.000000  3.040000e+07  600000.000000     100.00000"
      ]
     },
     "execution_count": 14,
     "metadata": {},
     "output_type": "execute_result"
    }
   ],
   "source": [
    "data_df.describe()"
   ]
  },
  {
   "cell_type": "markdown",
   "id": "de968891",
   "metadata": {},
   "source": [
    "."
   ]
  },
  {
   "cell_type": "markdown",
   "id": "9115ca2d",
   "metadata": {},
   "source": [
    "### Quality issues Observed from the Data"
   ]
  },
  {
   "cell_type": "markdown",
   "id": "1647b664",
   "metadata": {},
   "source": [
    "- first column has no name\n",
    "- the first column should have an increment of 1\n",
    "- the use of MI, EN, SE and EX for experiecne levels\n",
    "- the use pf PT, FT, FL and CT for Employment type\n",
    "- the use of L, M and S for company size \n",
    "- the use of country codes for employee residence and company locations\n",
    "- the datatype of work_year, remote ratio, experience level and company_size should be changed\n"
   ]
  },
  {
   "cell_type": "markdown",
   "id": "bd286e36",
   "metadata": {},
   "source": [
    "### Cleaning Data"
   ]
  },
  {
   "cell_type": "markdown",
   "id": "368423b6",
   "metadata": {},
   "source": [
    "This will be done using the define-code-test framework. Before commencing with cleaning the tables, copies of the tables are created"
   ]
  },
  {
   "cell_type": "code",
   "execution_count": 22,
   "id": "db5e23cd",
   "metadata": {},
   "outputs": [],
   "source": [
    "data_df_clean = data_df.copy()"
   ]
  },
  {
   "cell_type": "markdown",
   "id": "67164baf",
   "metadata": {},
   "source": [
    "."
   ]
  },
  {
   "cell_type": "markdown",
   "id": "169f51ec",
   "metadata": {},
   "source": [
    "### First Column has no name"
   ]
  },
  {
   "cell_type": "markdown",
   "id": "de8ea45d",
   "metadata": {},
   "source": [
    "#### Define\n",
    "\n",
    "The first column of the data has an invalid column name which would be changed\n",
    "\n",
    "#### Code"
   ]
  },
  {
   "cell_type": "code",
   "execution_count": 23,
   "id": "b694d167",
   "metadata": {},
   "outputs": [
    {
     "data": {
      "text/plain": [
       "Index(['Unnamed: 0', 'work_year', 'experience_level', 'employment_type',\n",
       "       'job_title', 'salary', 'salary_currency', 'salary_in_usd',\n",
       "       'employee_residence', 'remote_ratio', 'company_location',\n",
       "       'company_size'],\n",
       "      dtype='object')"
      ]
     },
     "execution_count": 23,
     "metadata": {},
     "output_type": "execute_result"
    }
   ],
   "source": [
    "# to check the columns names\n",
    "data_df_clean.columns"
   ]
  },
  {
   "cell_type": "code",
   "execution_count": 29,
   "id": "ccbfbf4f",
   "metadata": {},
   "outputs": [],
   "source": [
    "# to change the column name\n",
    "data_df_clean.rename(columns = {'Unnamed: 0' : 'row_number'}, inplace = True)"
   ]
  },
  {
   "cell_type": "markdown",
   "id": "e905bb24",
   "metadata": {},
   "source": [
    "#### Test"
   ]
  },
  {
   "cell_type": "code",
   "execution_count": 30,
   "id": "c8c7b7a4",
   "metadata": {},
   "outputs": [
    {
     "data": {
      "text/plain": [
       "Index(['row_number', 'work_year', 'experience_level', 'employment_type',\n",
       "       'job_title', 'salary', 'salary_currency', 'salary_in_usd',\n",
       "       'employee_residence', 'remote_ratio', 'company_location',\n",
       "       'company_size'],\n",
       "      dtype='object')"
      ]
     },
     "execution_count": 30,
     "metadata": {},
     "output_type": "execute_result"
    }
   ],
   "source": [
    "# to test if the code worked\n",
    "data_df_clean.columns"
   ]
  },
  {
   "cell_type": "markdown",
   "id": "aefbe0ab",
   "metadata": {},
   "source": [
    "### Increment by 1 in the first column"
   ]
  },
  {
   "cell_type": "markdown",
   "id": "14cd2932",
   "metadata": {},
   "source": [
    "#### Define\n",
    "Increase the values in the first column by one\n",
    "\n",
    "#### Code"
   ]
  },
  {
   "cell_type": "code",
   "execution_count": 33,
   "id": "2796e796",
   "metadata": {},
   "outputs": [
    {
     "data": {
      "text/plain": [
       "0"
      ]
     },
     "execution_count": 33,
     "metadata": {},
     "output_type": "execute_result"
    }
   ],
   "source": [
    "# to check the minimum value\n",
    "data_df_clean.row_number.min()"
   ]
  },
  {
   "cell_type": "code",
   "execution_count": 34,
   "id": "eac90c09",
   "metadata": {},
   "outputs": [
    {
     "data": {
      "text/plain": [
       "606"
      ]
     },
     "execution_count": 34,
     "metadata": {},
     "output_type": "execute_result"
    }
   ],
   "source": [
    "# to check the maximum value\n",
    "data_df_clean.row_number.max()"
   ]
  },
  {
   "cell_type": "code",
   "execution_count": 35,
   "id": "c9c71ad9",
   "metadata": {},
   "outputs": [],
   "source": [
    "# to increase the values by 1\n",
    "data_df_clean['row_number'] = data_df_clean.row_number.apply(lambda x: x+1)"
   ]
  },
  {
   "cell_type": "markdown",
   "id": "a686228d",
   "metadata": {},
   "source": [
    "#### Test"
   ]
  },
  {
   "cell_type": "code",
   "execution_count": 36,
   "id": "462a3aef",
   "metadata": {
    "scrolled": true
   },
   "outputs": [
    {
     "data": {
      "text/plain": [
       "array([  1,   2,   3,   4,   5,   6,   7,   8,   9,  10,  11,  12,  13,\n",
       "        14,  15,  16,  17,  18,  19,  20,  21,  22,  23,  24,  25,  26,\n",
       "        27,  28,  29,  30,  31,  32,  33,  34,  35,  36,  37,  38,  39,\n",
       "        40,  41,  42,  43,  44,  45,  46,  47,  48,  49,  50,  51,  52,\n",
       "        53,  54,  55,  56,  57,  58,  59,  60,  61,  62,  63,  64,  65,\n",
       "        66,  67,  68,  69,  70,  71,  72,  73,  74,  75,  76,  77,  78,\n",
       "        79,  80,  81,  82,  83,  84,  85,  86,  87,  88,  89,  90,  91,\n",
       "        92,  93,  94,  95,  96,  97,  98,  99, 100, 101, 102, 103, 104,\n",
       "       105, 106, 107, 108, 109, 110, 111, 112, 113, 114, 115, 116, 117,\n",
       "       118, 119, 120, 121, 122, 123, 124, 125, 126, 127, 128, 129, 130,\n",
       "       131, 132, 133, 134, 135, 136, 137, 138, 139, 140, 141, 142, 143,\n",
       "       144, 145, 146, 147, 148, 149, 150, 151, 152, 153, 154, 155, 156,\n",
       "       157, 158, 159, 160, 161, 162, 163, 164, 165, 166, 167, 168, 169,\n",
       "       170, 171, 172, 173, 174, 175, 176, 177, 178, 179, 180, 181, 182,\n",
       "       183, 184, 185, 186, 187, 188, 189, 190, 191, 192, 193, 194, 195,\n",
       "       196, 197, 198, 199, 200, 201, 202, 203, 204, 205, 206, 207, 208,\n",
       "       209, 210, 211, 212, 213, 214, 215, 216, 217, 218, 219, 220, 221,\n",
       "       222, 223, 224, 225, 226, 227, 228, 229, 230, 231, 232, 233, 234,\n",
       "       235, 236, 237, 238, 239, 240, 241, 242, 243, 244, 245, 246, 247,\n",
       "       248, 249, 250, 251, 252, 253, 254, 255, 256, 257, 258, 259, 260,\n",
       "       261, 262, 263, 264, 265, 266, 267, 268, 269, 270, 271, 272, 273,\n",
       "       274, 275, 276, 277, 278, 279, 280, 281, 282, 283, 284, 285, 286,\n",
       "       287, 288, 289, 290, 291, 292, 293, 294, 295, 296, 297, 298, 299,\n",
       "       300, 301, 302, 303, 304, 305, 306, 307, 308, 309, 310, 311, 312,\n",
       "       313, 314, 315, 316, 317, 318, 319, 320, 321, 322, 323, 324, 325,\n",
       "       326, 327, 328, 329, 330, 331, 332, 333, 334, 335, 336, 337, 338,\n",
       "       339, 340, 341, 342, 343, 344, 345, 346, 347, 348, 349, 350, 351,\n",
       "       352, 353, 354, 355, 356, 357, 358, 359, 360, 361, 362, 363, 364,\n",
       "       365, 366, 367, 368, 369, 370, 371, 372, 373, 374, 375, 376, 377,\n",
       "       378, 379, 380, 381, 382, 383, 384, 385, 386, 387, 388, 389, 390,\n",
       "       391, 392, 393, 394, 395, 396, 397, 398, 399, 400, 401, 402, 403,\n",
       "       404, 405, 406, 407, 408, 409, 410, 411, 412, 413, 414, 415, 416,\n",
       "       417, 418, 419, 420, 421, 422, 423, 424, 425, 426, 427, 428, 429,\n",
       "       430, 431, 432, 433, 434, 435, 436, 437, 438, 439, 440, 441, 442,\n",
       "       443, 444, 445, 446, 447, 448, 449, 450, 451, 452, 453, 454, 455,\n",
       "       456, 457, 458, 459, 460, 461, 462, 463, 464, 465, 466, 467, 468,\n",
       "       469, 470, 471, 472, 473, 474, 475, 476, 477, 478, 479, 480, 481,\n",
       "       482, 483, 484, 485, 486, 487, 488, 489, 490, 491, 492, 493, 494,\n",
       "       495, 496, 497, 498, 499, 500, 501, 502, 503, 504, 505, 506, 507,\n",
       "       508, 509, 510, 511, 512, 513, 514, 515, 516, 517, 518, 519, 520,\n",
       "       521, 522, 523, 524, 525, 526, 527, 528, 529, 530, 531, 532, 533,\n",
       "       534, 535, 536, 537, 538, 539, 540, 541, 542, 543, 544, 545, 546,\n",
       "       547, 548, 549, 550, 551, 552, 553, 554, 555, 556, 557, 558, 559,\n",
       "       560, 561, 562, 563, 564, 565, 566, 567, 568, 569, 570, 571, 572,\n",
       "       573, 574, 575, 576, 577, 578, 579, 580, 581, 582, 583, 584, 585,\n",
       "       586, 587, 588, 589, 590, 591, 592, 593, 594, 595, 596, 597, 598,\n",
       "       599, 600, 601, 602, 603, 604, 605, 606, 607], dtype=int64)"
      ]
     },
     "execution_count": 36,
     "metadata": {},
     "output_type": "execute_result"
    }
   ],
   "source": [
    "# toc heck if the code worked\n",
    "data_df_clean.row_number.values"
   ]
  },
  {
   "cell_type": "markdown",
   "id": "ff645291",
   "metadata": {},
   "source": [
    "### The use of MI, EN, SE and EX in Experience level"
   ]
  },
  {
   "cell_type": "markdown",
   "id": "3e529dca",
   "metadata": {},
   "source": [
    "#### Define\n",
    "The use of short words in experiecne level instead of the full name for clarity \n",
    "\n",
    "#### Code"
   ]
  },
  {
   "cell_type": "code",
   "execution_count": 37,
   "id": "1a48a36d",
   "metadata": {},
   "outputs": [
    {
     "data": {
      "text/plain": [
       "array(['MI', 'SE', 'EN', 'EX'], dtype=object)"
      ]
     },
     "execution_count": 37,
     "metadata": {},
     "output_type": "execute_result"
    }
   ],
   "source": [
    "# to check the unique values in the experience level column\n",
    "data_df_clean['experience_level'].unique()"
   ]
  },
  {
   "cell_type": "code",
   "execution_count": 41,
   "id": "843eaae2",
   "metadata": {},
   "outputs": [],
   "source": [
    "# to change the short strings to their full meaning\n",
    "data_df_clean['experience_level'] = data_df_clean['experience_level'].replace(['MI', 'SE', 'EN', 'EX'],\n",
    "                                                ['Mid level', 'Senior level', 'Entry level', 'Executive level'])"
   ]
  },
  {
   "cell_type": "markdown",
   "id": "d8c0157d",
   "metadata": {},
   "source": [
    "#### Test"
   ]
  },
  {
   "cell_type": "code",
   "execution_count": 39,
   "id": "64d98c82",
   "metadata": {},
   "outputs": [
    {
     "data": {
      "text/plain": [
       "array(['Mid level', 'Senior level', 'Entry level', 'Executive level'],\n",
       "      dtype=object)"
      ]
     },
     "execution_count": 39,
     "metadata": {},
     "output_type": "execute_result"
    }
   ],
   "source": [
    "# to test if the code worked\n",
    "data_df_clean['experience_level'].unique()"
   ]
  },
  {
   "cell_type": "markdown",
   "id": "a0ebaef5",
   "metadata": {},
   "source": [
    "### The use of FT, PT, FL & CT in Employment Type"
   ]
  },
  {
   "cell_type": "markdown",
   "id": "0cd23339",
   "metadata": {},
   "source": [
    "#### Define\n",
    "The use of short words in employment type instead of the full name for clarity \n",
    "\n",
    "#### Code"
   ]
  },
  {
   "cell_type": "code",
   "execution_count": 42,
   "id": "9e0a20ca",
   "metadata": {},
   "outputs": [
    {
     "data": {
      "text/plain": [
       "array(['FT', 'CT', 'PT', 'FL'], dtype=object)"
      ]
     },
     "execution_count": 42,
     "metadata": {},
     "output_type": "execute_result"
    }
   ],
   "source": [
    "# to check the unique values in the employment type column\n",
    "data_df_clean['employment_type'].unique()"
   ]
  },
  {
   "cell_type": "code",
   "execution_count": 43,
   "id": "bcc7985b",
   "metadata": {},
   "outputs": [],
   "source": [
    "# to change the short strings to their full meaning\n",
    "data_df_clean['employment_type'] = data_df_clean['employment_type'].replace(['FT', 'CT', 'PT', 'FL'],\n",
    "                                                ['Full-time', 'Contract', 'Part-time', 'Freelance'])"
   ]
  },
  {
   "cell_type": "markdown",
   "id": "ef374a13",
   "metadata": {},
   "source": [
    "#### Test"
   ]
  },
  {
   "cell_type": "code",
   "execution_count": 44,
   "id": "e68542dd",
   "metadata": {},
   "outputs": [
    {
     "data": {
      "text/plain": [
       "array(['Full-time', 'Contract', 'Part-time', 'Freelance'], dtype=object)"
      ]
     },
     "execution_count": 44,
     "metadata": {},
     "output_type": "execute_result"
    }
   ],
   "source": [
    "# to test if the changes have been made\n",
    "data_df_clean['employment_type'].unique()"
   ]
  },
  {
   "cell_type": "markdown",
   "id": "2835fdb6",
   "metadata": {},
   "source": [
    "### The use of Country Codes"
   ]
  },
  {
   "cell_type": "markdown",
   "id": "cc85ee2b",
   "metadata": {},
   "source": [
    "#### Define\n",
    "The use of short codes for country instead of the full country name in the employee residence and company location\n",
    "\n",
    "#### Code"
   ]
  },
  {
   "cell_type": "code",
   "execution_count": 48,
   "id": "9804cde4",
   "metadata": {},
   "outputs": [
    {
     "data": {
      "text/plain": [
       "array(['DE', 'JP', 'GB', 'HN', 'US', 'HU', 'NZ', 'FR', 'IN', 'PK', 'PL',\n",
       "       'PT', 'CN', 'GR', 'AE', 'NL', 'MX', 'CA', 'AT', 'NG', 'PH', 'ES',\n",
       "       'DK', 'RU', 'IT', 'HR', 'BG', 'SG', 'BR', 'IQ', 'VN', 'BE', 'UA',\n",
       "       'MT', 'CL', 'RO', 'IR', 'CO', 'MD', 'KE', 'SI', 'HK', 'TR', 'RS',\n",
       "       'PR', 'LU', 'JE', 'CZ', 'AR', 'DZ', 'TN', 'MY', 'EE', 'AU', 'BO',\n",
       "       'IE', 'CH'], dtype=object)"
      ]
     },
     "execution_count": 48,
     "metadata": {},
     "output_type": "execute_result"
    }
   ],
   "source": [
    "# to check the country code used in employee residence\n",
    "data_df_clean['employee_residence'].unique()"
   ]
  },
  {
   "cell_type": "code",
   "execution_count": 49,
   "id": "a82a402d",
   "metadata": {},
   "outputs": [
    {
     "data": {
      "text/plain": [
       "array(['DE', 'JP', 'GB', 'HN', 'US', 'HU', 'NZ', 'FR', 'IN', 'PK', 'CN',\n",
       "       'GR', 'AE', 'NL', 'MX', 'CA', 'AT', 'NG', 'ES', 'PT', 'DK', 'IT',\n",
       "       'HR', 'LU', 'PL', 'SG', 'RO', 'IQ', 'BR', 'BE', 'UA', 'IL', 'RU',\n",
       "       'MT', 'CL', 'IR', 'CO', 'MD', 'KE', 'SI', 'CH', 'VN', 'AS', 'TR',\n",
       "       'CZ', 'DZ', 'EE', 'MY', 'AU', 'IE'], dtype=object)"
      ]
     },
     "execution_count": 49,
     "metadata": {},
     "output_type": "execute_result"
    }
   ],
   "source": [
    "# to check the country code used in company location\n",
    "data_df_clean['company_location'].unique()"
   ]
  },
  {
   "cell_type": "code",
   "execution_count": 51,
   "id": "d84d5911",
   "metadata": {},
   "outputs": [],
   "source": [
    "country_code = {'Afghanistan': 'AF',\n",
    "'Albania': 'AL',\n",
    "'Algeria': 'DZ',\n",
    "'American Samoa': 'AS',\n",
    "'Andorra': 'AD',\n",
    "'Angola': 'AO',\n",
    "'Anguilla': 'AI',\n",
    "'Antarctica': 'AQ',\n",
    "'Antigua and Barbuda': 'AG',\n",
    "'Argentina': 'AR',\n",
    "'Armenia': 'AM',\n",
    "'Aruba': 'AW',\n",
    "'Australia': 'AU',\n",
    "'Austria': 'AT',\n",
    "'Azerbaijan': 'AZ',\n",
    "'Bahamas': 'BS',\n",
    "'Bahrain': 'BH',\n",
    "'Bangladesh': 'BD',\n",
    "'Barbados': 'BB',\n",
    "'Belarus': 'BY',\n",
    "'Belgium': 'BE',\n",
    "'Belize': 'BZ',\n",
    "'Benin': 'BJ',\n",
    "'Bermuda': 'BM',\n",
    "'Bhutan': 'BT',\n",
    "'Bolivia': 'BO',\n",
    "'Bonaire, Sint Eustatius and Saba': 'BQ',\n",
    "'Bosnia and Herzegovina': 'BA',\n",
    "'Botswana': 'BW',\n",
    "'Bouvet Island': 'BV',\n",
    "'Brazil': 'BR',\n",
    "'British Indian Ocean Territory': 'IO',\n",
    "'Brunei Darussalam': 'BN',\n",
    "'Bulgaria': 'BG',\n",
    "'Burkina Faso': 'BF',\n",
    "'Burundi': 'BI',\n",
    "'Cambodia': 'KH',\n",
    "'Cameroon': 'CM',\n",
    "'Canada': 'CA',\n",
    "'Cape Verde': 'CV',\n",
    "'Cayman Islands': 'KY',\n",
    "'Central African Republic': 'CF',\n",
    "'Chad': 'TD',\n",
    "'Chile': 'CL',\n",
    "'China': 'CN',\n",
    "'Christmas Island': 'CX',\n",
    "'Cocos (Keeling) Islands': 'CC',\n",
    "'Colombia': 'CO',\n",
    "'Comoros': 'KM',\n",
    "'Congo': 'CG',\n",
    "'Congo, the Democratic Republic of the': 'CD',\n",
    "'Cook Islands': 'CK',\n",
    "'Costa Rica': 'CR',\n",
    "'Country name': 'Code',\n",
    "'Croatia': 'HR',\n",
    "'Cuba': 'CU',\n",
    "'Curaçao': 'CW',\n",
    "'Cyprus': 'CY',\n",
    "'Czech Republic': 'CZ',\n",
    "\"Côte d'Ivoire\": 'CI',\n",
    "'Denmark': 'DK',\n",
    "'Djibouti': 'DJ',\n",
    "'Dominica': 'DM',\n",
    "'Dominican Republic': 'DO',\n",
    "'Ecuador': 'EC',\n",
    "'Egypt': 'EG',\n",
    "'El Salvador': 'SV',\n",
    "'Equatorial Guinea': 'GQ',\n",
    "'Eritrea': 'ER',\n",
    "'Estonia': 'EE',\n",
    "'Ethiopia': 'ET',\n",
    "'Falkland Islands (Malvinas)': 'FK',\n",
    "'Faroe Islands': 'FO',\n",
    "'Fiji': 'FJ',\n",
    "'Finland': 'FI',\n",
    "'France': 'FR',\n",
    "'French Guiana': 'GF',\n",
    "'French Polynesia': 'PF',\n",
    "'French Southern Territories': 'TF',\n",
    "'Gabon': 'GA',\n",
    "'Gambia': 'GM',\n",
    "'Georgia': 'GE',\n",
    "'Germany': 'DE',\n",
    "'Ghana': 'GH',\n",
    "'Gibraltar': 'GI',\n",
    "'Greece': 'GR',\n",
    "'Greenland': 'GL',\n",
    "'Grenada': 'GD',\n",
    "'Guadeloupe': 'GP',\n",
    "'Guam': 'GU',\n",
    "'Guatemala': 'GT',\n",
    "'Guernsey': 'GG',\n",
    "'Guinea': 'GN',\n",
    "'Guinea-Bissau': 'GW',\n",
    "'Guyana': 'GY',\n",
    "'Haiti': 'HT',\n",
    "'Heard Island and McDonald Islands': 'HM',\n",
    "'Holy See (Vatican City State)': 'VA',\n",
    "'Honduras': 'HN',\n",
    "'Hong Kong': 'HK',\n",
    "'Hungary': 'HU',\n",
    "'ISO 3166-2:GB': '(.uk)',\n",
    "'Iceland': 'IS',\n",
    "'India': 'IN',\n",
    "'Indonesia': 'ID',\n",
    "'Iran': 'IR',\n",
    "'Iraq': 'IQ',\n",
    "'Ireland': 'IE',\n",
    "'Isle of Man': 'IM',\n",
    "'Israel': 'IL',\n",
    "'Italy': 'IT',\n",
    "'Jamaica': 'JM',\n",
    "'Japan': 'JP',\n",
    "'Jersey': 'JE',\n",
    "'Jordan': 'JO',\n",
    "'Kazakhstan': 'KZ',\n",
    "'Kenya': 'KE',\n",
    "'Kiribati': 'KI',\n",
    "\"Korea, Democratic People's Republic of\": 'KP',\n",
    "'Korea, Republic of': 'KR',\n",
    "'Kuwait': 'KW',\n",
    "'Kyrgyzstan': 'KG',\n",
    "\"Lao People's Democratic Republic\": 'LA',\n",
    "'Latvia': 'LV',\n",
    "'Lebanon': 'LB',\n",
    "'Lesotho': 'LS',\n",
    "'Liberia': 'LR',\n",
    "'Libya': 'LY',\n",
    "'Liechtenstein': 'LI',\n",
    "'Lithuania': 'LT',\n",
    "'Luxembourg': 'LU',\n",
    "'Macao': 'MO',\n",
    "'Macedonia, the former Yugoslav Republic of': 'MK',\n",
    "'Madagascar': 'MG',\n",
    "'Malawi': 'MW',\n",
    "'Malaysia': 'MY',\n",
    "'Maldives': 'MV',\n",
    "'Mali': 'ML',\n",
    "'Malta': 'MT',\n",
    "'Marshall Islands': 'MH',\n",
    "'Martinique': 'MQ',\n",
    "'Mauritania': 'MR',\n",
    "'Mauritius': 'MU',\n",
    "'Mayotte': 'YT',\n",
    "'Mexico': 'MX',\n",
    "'Micronesia, Federated States of': 'FM',\n",
    "'Moldova': 'MD',\n",
    "'Monaco': 'MC',\n",
    "'Mongolia': 'MN',\n",
    "'Montenegro': 'ME',\n",
    "'Montserrat': 'MS',\n",
    "'Morocco': 'MA',\n",
    "'Mozambique': 'MZ',\n",
    "'Myanmar': 'MM',\n",
    "'Namibia': 'NA',\n",
    "'Nauru': 'NR',\n",
    "'Nepal': 'NP',\n",
    "'Netherlands': 'NL',\n",
    "'New Caledonia': 'NC',\n",
    "'New Zealand': 'NZ',\n",
    "'Nicaragua': 'NI',\n",
    "'Niger': 'NE',\n",
    "'Nigeria': 'NG',\n",
    "'Niue': 'NU',\n",
    "'Norfolk Island': 'NF',\n",
    "'Northern Mariana Islands': 'MP',\n",
    "'Norway': 'NO',\n",
    "'Oman': 'OM',\n",
    "'Pakistan': 'PK',\n",
    "'Palau': 'PW',\n",
    "'Palestine, State of': 'PS',\n",
    "'Panama': 'PA',\n",
    "'Papua New Guinea': 'PG',\n",
    "'Paraguay': 'PY',\n",
    "'Peru': 'PE',\n",
    "'Philippines': 'PH',\n",
    "'Pitcairn': 'PN',\n",
    "'Poland': 'PL',\n",
    "'Portugal': 'PT',\n",
    "'Puerto Rico': 'PR',\n",
    "'Qatar': 'QA',\n",
    "'Romania': 'RO',\n",
    "'Russia': 'RU',\n",
    "'Rwanda': 'RW',\n",
    "'Réunion': 'RE',\n",
    "'Saint Barthélemy': 'BL',\n",
    "'Saint Helena, Ascension and Tristan da Cunha': 'SH',\n",
    "'Saint Kitts and Nevis': 'KN',\n",
    "'Saint Lucia': 'LC',\n",
    "'Saint Martin (French part)': 'MF',\n",
    "'Saint Pierre and Miquelon': 'PM',\n",
    "'Saint Vincent and the Grenadines': 'VC',\n",
    "'Samoa': 'WS',\n",
    "'San Marino': 'SM',\n",
    "'Sao Tome and Principe': 'ST',\n",
    "'Saudi Arabia': 'SA',\n",
    "'Senegal': 'SN',\n",
    "'Serbia': 'RS',\n",
    "'Seychelles': 'SC',\n",
    "'Sierra Leone': 'SL',\n",
    "'Singapore': 'SG',\n",
    "'Sint Maarten (Dutch part)': 'SX',\n",
    "'Slovakia': 'SK',\n",
    "'Slovenia': 'SI',\n",
    "'Solomon Islands': 'SB',\n",
    "'Somalia': 'SO',\n",
    "'South Africa': 'ZA',\n",
    "'South Georgia and the South Sandwich Islands': 'GS',\n",
    "'South Sudan': 'SS',\n",
    "'Spain': 'ES',\n",
    "'Sri Lanka': 'LK',\n",
    "'Sudan': 'SD',\n",
    "'Suriname': 'SR',\n",
    "'Svalbard and Jan Mayen': 'SJ',\n",
    "'Swaziland': 'SZ',\n",
    "'Sweden': 'SE',\n",
    "'Switzerland': 'CH',\n",
    "'Syrian Arab Republic': 'SY',\n",
    "'Taiwan, Province of China': 'TW',\n",
    "'Tajikistan': 'TJ',\n",
    "'Tanzania, United Republic of': 'TZ',\n",
    "'Thailand': 'TH',\n",
    "'Timor-Leste': 'TL',\n",
    "'Togo': 'TG',\n",
    "'Tokelau': 'TK',\n",
    "'Tonga': 'TO',\n",
    "'Trinidad and Tobago': 'TT',\n",
    "'Tunisia': 'TN',\n",
    "'Turkey': 'TR',\n",
    "'Turkmenistan': 'TM',\n",
    "'Turks and Caicos Islands': 'TC',\n",
    "'Tuvalu': 'TV',\n",
    "'Uganda': 'UG',\n",
    "'Ukraine': 'UA',\n",
    "'United Arab Emirates': 'AE',\n",
    "'United Kingdom': 'GB',\n",
    "'United States': 'US',\n",
    "'United States Minor Outlying Islands': 'UM',\n",
    "'Uruguay': 'UY',\n",
    "'Uzbekistan': 'UZ',\n",
    "'Vanuatu': 'VU',\n",
    "'Venezuela': 'VE',\n",
    "'Vietnam': 'VN',\n",
    "'Virgin Islands, British': 'VG',\n",
    "'Virgin Islands, U.S.': 'VI',\n",
    "'Wallis and Futuna': 'WF',\n",
    "'Western Sahara': 'EH',\n",
    "'Yemen': 'YE',\n",
    "'Zambia': 'ZM',\n",
    "'Zimbabwe': 'ZW',\n",
    "'Åland Islands': 'AX'}\n",
    "\n",
    "\n",
    "for keys, values in country_code.items():\n",
    "    data_df_clean['company_location'].replace(values, keys, inplace=True)\n",
    "    data_df_clean['employee_residence'].replace(values, keys, inplace=True)"
   ]
  },
  {
   "cell_type": "markdown",
   "id": "938e0817",
   "metadata": {},
   "source": [
    "#### Test"
   ]
  },
  {
   "cell_type": "code",
   "execution_count": 52,
   "id": "f3ef5356",
   "metadata": {},
   "outputs": [
    {
     "data": {
      "text/plain": [
       "array(['Germany', 'Japan', 'United Kingdom', 'Honduras', 'United States',\n",
       "       'Hungary', 'New Zealand', 'France', 'India', 'Pakistan', 'China',\n",
       "       'Greece', 'United Arab Emirates', 'Netherlands', 'Mexico',\n",
       "       'Canada', 'Austria', 'Nigeria', 'Spain', 'Portugal', 'Denmark',\n",
       "       'Italy', 'Croatia', 'Luxembourg', 'Poland', 'Singapore', 'Romania',\n",
       "       'Iraq', 'Brazil', 'Belgium', 'Ukraine', 'Israel', 'Russia',\n",
       "       'Malta', 'Chile', 'Iran', 'Colombia', 'Moldova', 'Kenya',\n",
       "       'Slovenia', 'Switzerland', 'Vietnam', 'American Samoa', 'Turkey',\n",
       "       'Czech Republic', 'Algeria', 'Estonia', 'Malaysia', 'Australia',\n",
       "       'Ireland'], dtype=object)"
      ]
     },
     "execution_count": 52,
     "metadata": {},
     "output_type": "execute_result"
    }
   ],
   "source": [
    "data_df['company_location'].unique()"
   ]
  },
  {
   "cell_type": "code",
   "execution_count": 53,
   "id": "6ce88b42",
   "metadata": {},
   "outputs": [
    {
     "data": {
      "text/plain": [
       "array(['Germany', 'Japan', 'United Kingdom', 'Honduras', 'United States',\n",
       "       'Hungary', 'New Zealand', 'France', 'India', 'Pakistan', 'Poland',\n",
       "       'Portugal', 'China', 'Greece', 'United Arab Emirates',\n",
       "       'Netherlands', 'Mexico', 'Canada', 'Austria', 'Nigeria',\n",
       "       'Philippines', 'Spain', 'Denmark', 'Russia', 'Italy', 'Croatia',\n",
       "       'Bulgaria', 'Singapore', 'Brazil', 'Iraq', 'Vietnam', 'Belgium',\n",
       "       'Ukraine', 'Malta', 'Chile', 'Romania', 'Iran', 'Colombia',\n",
       "       'Moldova', 'Kenya', 'Slovenia', 'Hong Kong', 'Turkey', 'Serbia',\n",
       "       'Puerto Rico', 'Luxembourg', 'Jersey', 'Czech Republic',\n",
       "       'Argentina', 'Algeria', 'Tunisia', 'Malaysia', 'Estonia',\n",
       "       'Australia', 'Bolivia', 'Ireland', 'Switzerland'], dtype=object)"
      ]
     },
     "execution_count": 53,
     "metadata": {},
     "output_type": "execute_result"
    }
   ],
   "source": [
    "data_df['employee_residence'].unique()"
   ]
  },
  {
   "cell_type": "markdown",
   "id": "18fdf1da",
   "metadata": {},
   "source": [
    "### Changing DataTypes"
   ]
  },
  {
   "cell_type": "markdown",
   "id": "0d00f1ec",
   "metadata": {},
   "source": [
    "#### Define\n",
    "The datatype of the work_year, remote_ratio, experience level and company size would be changed\n",
    "\n",
    "#### Code"
   ]
  },
  {
   "cell_type": "code",
   "execution_count": 54,
   "id": "454c3280",
   "metadata": {},
   "outputs": [
    {
     "data": {
      "text/plain": [
       "Index(['row_number', 'work_year', 'experience_level', 'employment_type',\n",
       "       'job_title', 'salary', 'salary_currency', 'salary_in_usd',\n",
       "       'employee_residence', 'remote_ratio', 'company_location',\n",
       "       'company_size'],\n",
       "      dtype='object')"
      ]
     },
     "execution_count": 54,
     "metadata": {},
     "output_type": "execute_result"
    }
   ],
   "source": [
    "#to check all the columns of the data\n",
    "data_df_clean.columns"
   ]
  },
  {
   "cell_type": "code",
   "execution_count": 55,
   "id": "5a4552bd",
   "metadata": {},
   "outputs": [
    {
     "data": {
      "text/plain": [
       "work_year            int64\n",
       "experience_level    object\n",
       "remote_ratio         int64\n",
       "company_size        object\n",
       "dtype: object"
      ]
     },
     "execution_count": 55,
     "metadata": {},
     "output_type": "execute_result"
    }
   ],
   "source": [
    "# to check their datatypes\n",
    "data_df_clean[['work_year', 'experience_level', 'remote_ratio', 'company_size']].dtypes"
   ]
  },
  {
   "cell_type": "code",
   "execution_count": 56,
   "id": "3e39ddcf",
   "metadata": {},
   "outputs": [],
   "source": [
    "# to change their datatypes\n",
    "\n",
    "# to change the work year to datetime \n",
    "data_df_clean['work_year'] = pd.to_datetime(data_df_clean['work_year'], format = \"%Y\")\n",
    "\n",
    "# to change the remaining columns to category datatype\n",
    "columns = ['experience_level', 'remote_ratio', 'company_size']\n",
    "for col in columns:\n",
    "    data_df_clean[col] = data_df_clean[col].astype('category')"
   ]
  },
  {
   "cell_type": "markdown",
   "id": "6665ed82",
   "metadata": {},
   "source": [
    "#### Test"
   ]
  },
  {
   "cell_type": "code",
   "execution_count": 57,
   "id": "3d75d411",
   "metadata": {},
   "outputs": [
    {
     "data": {
      "text/plain": [
       "work_year           datetime64[ns]\n",
       "experience_level          category\n",
       "remote_ratio              category\n",
       "company_size              category\n",
       "dtype: object"
      ]
     },
     "execution_count": 57,
     "metadata": {},
     "output_type": "execute_result"
    }
   ],
   "source": [
    "# to confirm if the code worked\n",
    "data_df_clean[['work_year', 'experience_level', 'remote_ratio', 'company_size']].dtypes"
   ]
  },
  {
   "cell_type": "markdown",
   "id": "6040358a",
   "metadata": {},
   "source": [
    "### The use of L, M & S in company size"
   ]
  },
  {
   "cell_type": "markdown",
   "id": "d2ba7f2d",
   "metadata": {},
   "source": [
    "#### Define\n",
    "The use of short words in company size instead of the full name for clarity \n",
    "\n",
    "#### Code"
   ]
  },
  {
   "cell_type": "code",
   "execution_count": 58,
   "id": "49b0c491",
   "metadata": {},
   "outputs": [
    {
     "data": {
      "text/plain": [
       "['L', 'S', 'M']\n",
       "Categories (3, object): ['L', 'M', 'S']"
      ]
     },
     "execution_count": 58,
     "metadata": {},
     "output_type": "execute_result"
    }
   ],
   "source": [
    "# to check the unique values in the company size column\n",
    "data_df_clean['company_size'].unique()"
   ]
  },
  {
   "cell_type": "code",
   "execution_count": 61,
   "id": "9c801983",
   "metadata": {},
   "outputs": [],
   "source": [
    "# to change the short strings to their full meaning\n",
    "data_df_clean['company_size'] = data_df_clean['company_size'].replace(['L', 'S', 'M'],\n",
    "                                                ['Large', 'Small', 'Medium'])"
   ]
  },
  {
   "cell_type": "markdown",
   "id": "97647521",
   "metadata": {},
   "source": [
    "#### Test"
   ]
  },
  {
   "cell_type": "code",
   "execution_count": 62,
   "id": "65dd5ef1",
   "metadata": {},
   "outputs": [
    {
     "data": {
      "text/plain": [
       "array(['Large', 'Small', 'Medium'], dtype=object)"
      ]
     },
     "execution_count": 62,
     "metadata": {},
     "output_type": "execute_result"
    }
   ],
   "source": [
    "# to see if the code works\n",
    "data_df_clean['company_size'].unique()"
   ]
  },
  {
   "cell_type": "markdown",
   "id": "11762f02",
   "metadata": {},
   "source": [
    "."
   ]
  },
  {
   "cell_type": "markdown",
   "id": "02069ec8",
   "metadata": {},
   "source": [
    "### Storing the Data\n",
    "\n",
    "Since the cleaning stage is done, I would save the cleaned data to a file "
   ]
  },
  {
   "cell_type": "code",
   "execution_count": 63,
   "id": "0560926b",
   "metadata": {},
   "outputs": [],
   "source": [
    "# saving the cleaned table to a file \n",
    "data_df_clean.to_csv('cleaned_ds_salaries.csv', index = False)"
   ]
  },
  {
   "cell_type": "markdown",
   "id": "d8bf73ad",
   "metadata": {},
   "source": [
    "#### Test"
   ]
  },
  {
   "cell_type": "code",
   "execution_count": 64,
   "id": "7b70fc1b",
   "metadata": {},
   "outputs": [
    {
     "data": {
      "text/plain": [
       "True"
      ]
     },
     "execution_count": 64,
     "metadata": {},
     "output_type": "execute_result"
    }
   ],
   "source": [
    "# to check if the file was saved/ it exist locally\n",
    "os.path.exists('cleaned_ds_salaries.csv')"
   ]
  }
 ],
 "metadata": {
  "kernelspec": {
   "display_name": "Python 3 (ipykernel)",
   "language": "python",
   "name": "python3"
  },
  "language_info": {
   "codemirror_mode": {
    "name": "ipython",
    "version": 3
   },
   "file_extension": ".py",
   "mimetype": "text/x-python",
   "name": "python",
   "nbconvert_exporter": "python",
   "pygments_lexer": "ipython3",
   "version": "3.9.7"
  }
 },
 "nbformat": 4,
 "nbformat_minor": 5
}
